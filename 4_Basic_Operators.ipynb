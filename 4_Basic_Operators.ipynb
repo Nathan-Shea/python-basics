{
 "cells": [
  {
   "cell_type": "code",
   "execution_count": 1,
   "metadata": {},
   "outputs": [
    {
     "name": "stdout",
     "output_type": "stream",
     "text": [
      "x_list contains 10 objects\n",
      "y_list contains 10 objects\n",
      "big_list contains 20 objects\n",
      "Almost there...\n",
      "Great!\n"
     ]
    }
   ],
   "source": [
    "x = object()\n",
    "y = object()\n",
    "\n",
    "x_list = [x] * 10\n",
    "y_list = [y] * 10\n",
    "big_list = x_list + y_list\n",
    "\n",
    "print(\"x_list contains %d objects\" % len(x_list))\n",
    "print(\"y_list contains %d objects\" % len(y_list))\n",
    "print(\"big_list contains %d objects\" % len(big_list))\n",
    "\n",
    "if x_list.count(x) == 10 and y_list.count(y) == 10:\n",
    "    print(\"Almost there...\")\n",
    "if big_list.count(x) == 10 and big_list.count(y) == 10:\n",
    "    print(\"Great!\")"
   ]
  }
 ],
 "metadata": {
  "kernelspec": {
   "display_name": "Python 3.10.6 64-bit",
   "language": "python",
   "name": "python3"
  },
  "language_info": {
   "codemirror_mode": {
    "name": "ipython",
    "version": 3
   },
   "file_extension": ".py",
   "mimetype": "text/x-python",
   "name": "python",
   "nbconvert_exporter": "python",
   "pygments_lexer": "ipython3",
   "version": "3.11.3"
  },
  "orig_nbformat": 4,
  "vscode": {
   "interpreter": {
    "hash": "916dbcbb3f70747c44a77c7bcd40155683ae19c65e1c03b4aa3499c5328201f1"
   }
  }
 },
 "nbformat": 4,
 "nbformat_minor": 2
}
